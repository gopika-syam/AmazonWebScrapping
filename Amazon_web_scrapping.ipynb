{
 "cells": [
  {
   "cell_type": "markdown",
   "id": "8beb9524",
   "metadata": {},
   "source": [
    "# Amazon Web Scrapping with Selenium and Beautiful Soup"
   ]
  },
  {
   "cell_type": "code",
   "execution_count": 1,
   "id": "6285bf45",
   "metadata": {},
   "outputs": [],
   "source": [
    "#Importing libraries\n",
    "import csv\n",
    "import pandas as pd\n",
    "from bs4 import BeautifulSoup\n",
    "from selenium import webdriver\n",
    "\n",
    "#Get url based on search term and Navigating to next page\n",
    "def get_url(search_term):\n",
    "    template='https://www.amazon.com/s?k={}&crid=25VEVPPHRCLCX'\n",
    "    search_term=search_term.replace(' ','+')\n",
    "    url=template.format(search_term)\n",
    "    url+='&page={}'\n",
    "    return url\n",
    "\n",
    "#Extracting each search item as a dataframe within a method\n",
    "def extract_record(item):\n",
    "    atag=item.h2.a\n",
    "    description=atag.text.strip()\n",
    "    url='https://www.amazon.com'+atag.get('href')\n",
    "    try:\n",
    "        price_parent=item.find('span','a-price')\n",
    "        price=price_parent.find('span','a-offscreen').text\n",
    "    except AttributeError:\n",
    "            return\n",
    "    try:\n",
    "        rating=item.i.text\n",
    "        review_count=item.find('span',{'class':'a-size-base'}).text\n",
    "    except AttributeError:\n",
    "        rating=''\n",
    "        review_count=0\n",
    "    df=pd.DataFrame(columns=['Description','price','rating','review_count','url'])\n",
    "    df=df.append({'Description': description,  'price': price,'rating':rating,'review_count':review_count,'url':url}, ignore_index=True)\n",
    "    return df\n",
    "\n",
    "#Main function initiate webdriver and invoke methods\n",
    "def main(search_term):\n",
    "    \"\"\"Run main program\"\"\"\n",
    "    #Start webdriver\n",
    "    driver=webdriver.Chrome('C://Users//Hp//Downloads//chromedriver_win32 (1)//chromedriver.exe')\n",
    "    url=get_url(search_term)\n",
    "    df=pd.DataFrame(columns=['Description','price','rating','review_count','url'])\n",
    "    for page in range(1,21):\n",
    "        driver.get(url.format(page))\n",
    "        soup=BeautifulSoup(driver.page_source,'html.parser')\n",
    "        results=soup.find_all('div',{'data-component-type':'s-search-result'})\n",
    "        for item in results:\n",
    "            df=df.append(extract_record(item))\n",
    "    driver.close()\n",
    "    \n",
    "    #Saving results to csv file\n",
    "    df.to_csv(\"results.csv\",encoding='utf-8',header=True,index=False)\n",
    "       "
   ]
  },
  {
   "cell_type": "code",
   "execution_count": 2,
   "id": "66febe0e",
   "metadata": {},
   "outputs": [],
   "source": [
    "main('mobile phones')"
   ]
  }
 ],
 "metadata": {
  "kernelspec": {
   "display_name": "Python 3",
   "language": "python",
   "name": "python3"
  },
  "language_info": {
   "codemirror_mode": {
    "name": "ipython",
    "version": 3
   },
   "file_extension": ".py",
   "mimetype": "text/x-python",
   "name": "python",
   "nbconvert_exporter": "python",
   "pygments_lexer": "ipython3",
   "version": "3.8.8"
  }
 },
 "nbformat": 4,
 "nbformat_minor": 5
}
